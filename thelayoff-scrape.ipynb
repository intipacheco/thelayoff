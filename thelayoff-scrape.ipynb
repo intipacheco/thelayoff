{
 "cells": [
  {
   "cell_type": "code",
   "execution_count": 118,
   "id": "c3661633-bad9-4c31-8d36-d66af2205464",
   "metadata": {},
   "outputs": [],
   "source": [
    "import pandas as pd\n",
    "import requests\n",
    "from bs4 import BeautifulSoup\n",
    "from selenium import webdriver\n",
    "from selenium.webdriver.common.by import By\n",
    "from selenium.webdriver.support.ui import WebDriverWait\n",
    "from selenium.webdriver.support import expected_conditions as EC\n",
    "from selenium.webdriver.support.ui import Select\n",
    "import re\n",
    "import datetime\n",
    "import base64"
   ]
  },
  {
   "cell_type": "code",
   "execution_count": 115,
   "id": "2f195c1f-0fec-482c-b485-ee1545048d6a",
   "metadata": {
    "scrolled": true
   },
   "outputs": [
    {
     "name": "stdout",
     "output_type": "stream",
     "text": [
      "{'title': 'Nike lost 5 years yesterday', 'body': 'If COVID times taught us anything, it was that what happens in the outside world affects people in their job.  The lack of any communication by leadership yesterday was hugely felt.  It could have been as simple as “statistically speaking, half of...\\t\\t\\t\\t\\t\\t\\t\\t—\\xa0read\\xa0more', 'date': '2024-11-07T15:07:47Z', 'link': 'https://www.thelayoff.com/t/1vnIklAq'}\n",
      "-----\n"
     ]
    }
   ],
   "source": [
    "url = \"https://www.thelayoff.com/nike\"\n",
    "driver = webdriver.Chrome()\n",
    "wait = WebDriverWait(driver, 10)\n",
    "driver.get(url)\n",
    "doc = BeautifulSoup(driver.page_source, 'html.parser')\n",
    "posts = doc.find_all(class_='posts')\n",
    "\n",
    "data_all = []\n",
    "for post in posts:\n",
    "    data={}\n",
    "    data['title'] = post.find(class_='post-title').text.strip()\n",
    "    try:    \n",
    "        data['body'] = re.sub(r'\\n', '', post.find(class_='post-body').text.strip())\n",
    "    except:\n",
    "        pass\n",
    "    data['date'] = post.find(class_='post-timeago')['data-datetime']\n",
    "    data['link'] = 'https://www.thelayoff.com' + post.find(class_='thread-link')['href']\n",
    "    data_all.append(data)\n",
    "    print(data)\n",
    "    print('-----')\n",
    "df = pd.DataFrame(data_all)\n",
    "\n",
    "df['scrape_date'] = datetime.datetime.now().strftime(\"%Y-%m-%d_%H.%M.%S\")\n",
    "\n",
    "try:\n",
    "    existing_df = pd.read_csv(\"recent_posts.csv\")\n",
    "except:\n",
    "    existing_df = pd.DataFrame([])\n",
    "\n",
    "combined = pd.concat([df, existing_df], ignore_index=True)\n",
    "\n",
    "combined.drop_duplicates(subset=['link','date'], inplace=True)\n",
    "\n",
    "combined.to_csv('updated_posts.csv')"
   ]
  },
  {
   "cell_type": "markdown",
   "id": "fa524318-c4fd-4b88-9a8d-7e2bd43fef8a",
   "metadata": {},
   "source": [
    "## mail the csv"
   ]
  },
  {
   "cell_type": "code",
   "execution_count": 121,
   "id": "42f4d195-ad70-401a-a2fd-aedc165aeda1",
   "metadata": {},
   "outputs": [
    {
     "name": "stdout",
     "output_type": "stream",
     "text": [
      "202\n",
      "b''\n",
      "Server: nginx\n",
      "Date: Fri, 08 Nov 2024 02:29:28 GMT\n",
      "Content-Length: 0\n",
      "Connection: close\n",
      "X-Message-Id: hsGI7kVtQPGV8jLCZxHDyA\n",
      "Access-Control-Allow-Origin: https://sendgrid.api-docs.io\n",
      "Access-Control-Allow-Methods: POST\n",
      "Access-Control-Allow-Headers: Authorization, Content-Type, On-behalf-of, x-sg-elas-acl\n",
      "Access-Control-Max-Age: 600\n",
      "X-No-CORS-Reason: https://sendgrid.com/docs/Classroom/Basics/API/cors.html\n",
      "Strict-Transport-Security: max-age=600; includeSubDomains\n",
      "\n",
      "\n"
     ]
    }
   ],
   "source": [
    "from dotenv import load_dotenv\n",
    "import os\n",
    "from sendgrid import SendGridAPIClient\n",
    "from sendgrid.helpers.mail import (Mail, Attachment, FileContent, FileName, FileType, Disposition)\n",
    "\n",
    "#access creds on repo\n",
    "load_dotenv()\n",
    "API_KEY=os.getenv('API_KEY')\n",
    "ADDRESS=os.getenv('ADDRESS')\n",
    "\n",
    "message = Mail(\n",
    "    from_email=ADDRESS,\n",
    "    to_emails=ADDRESS,\n",
    "    subject='test email api-2',\n",
    "    html_content='my head will explode')\n",
    "\n",
    "with open('updated_posts.csv', 'rb') as f:\n",
    "    data = f.read()\n",
    "    f.close()\n",
    "encoded_file = base64.b64encode(data).decode()\n",
    "\n",
    "attachedFile = Attachment(\n",
    "    FileContent(encoded_file),\n",
    "    FileName('updated_posts.csv'),\n",
    "    FileType('text/csv'),\n",
    "    Disposition('attachment')\n",
    ")\n",
    "message.attachment = attachedFile\n",
    "\n",
    "try:\n",
    "    sg = SendGridAPIClient(API_KEY)\n",
    "    response = sg.send(message)\n",
    "    print(response.status_code)\n",
    "    print(response.body)\n",
    "    print(response.headers)\n",
    "except Exception as e:\n",
    "    print(e)\n",
    "\n"
   ]
  }
 ],
 "metadata": {
  "kernelspec": {
   "display_name": "Python 3 (ipykernel)",
   "language": "python",
   "name": "python3"
  },
  "language_info": {
   "codemirror_mode": {
    "name": "ipython",
    "version": 3
   },
   "file_extension": ".py",
   "mimetype": "text/x-python",
   "name": "python",
   "nbconvert_exporter": "python",
   "pygments_lexer": "ipython3",
   "version": "3.8.10"
  }
 },
 "nbformat": 4,
 "nbformat_minor": 5
}
